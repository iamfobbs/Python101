{
 "cells": [
  {
   "cell_type": "code",
   "execution_count": 48,
   "metadata": {
    "collapsed": false
   },
   "outputs": [
    {
     "name": "stdout",
     "output_type": "stream",
     "text": [
      "Current working dir /Users/dennis/Projects/Python101/Udacity/prank\n"
     ]
    }
   ],
   "source": [
    "import os\n",
    "def rename_files():\n",
    "    file_list = os.listdir(\"/Users/dennis/Projects/Python101/Udacity/Prank\")\n",
    "    #print(file_list)\n",
    "    saved_path = os.getcwd()\n",
    "    print(\"Current working dir \" + saved_path)\n",
    "    #change directory\n",
    "    os.chdir (\"/Users/dennis/Projects/Python101/Udacity/Prank\")\n",
    "    for file in file_list:\n",
    "        os.rename(file, file.translate(\"0123456789\"))\n",
    "        \n",
    "        #line.translate(str.maketrans('','',bad_chars))\n",
    "    os.chdir(saved_path)\n",
    "\n",
    "rename_files()"
   ]
  },
  {
   "cell_type": "code",
   "execution_count": null,
   "metadata": {
    "collapsed": true
   },
   "outputs": [],
   "source": []
  },
  {
   "cell_type": "code",
   "execution_count": null,
   "metadata": {
    "collapsed": true
   },
   "outputs": [],
   "source": []
  }
 ],
 "metadata": {
  "kernelspec": {
   "display_name": "Python 3",
   "language": "python",
   "name": "python3"
  },
  "language_info": {
   "codemirror_mode": {
    "name": "ipython",
    "version": 3
   },
   "file_extension": ".py",
   "mimetype": "text/x-python",
   "name": "python",
   "nbconvert_exporter": "python",
   "pygments_lexer": "ipython3",
   "version": "3.5.1"
  }
 },
 "nbformat": 4,
 "nbformat_minor": 0
}
